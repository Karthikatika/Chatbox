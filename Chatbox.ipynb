{
 "cells": [
  {
   "cell_type": "code",
   "execution_count": 1,
   "id": "83b404f3",
   "metadata": {},
   "outputs": [],
   "source": [
    "import requests\n",
    "import json"
   ]
  },
  {
   "cell_type": "code",
   "execution_count": 2,
   "id": "c8df025f",
   "metadata": {},
   "outputs": [],
   "source": [
    "SAP_CAI_TOKEN = \"your_sap_cai_token\"\n",
    "SAP_CAI_API_URL = \"https://api.cai.tools.sap/build/v1/dialog\""
   ]
  },
  {
   "cell_type": "code",
   "execution_count": 10,
   "id": "23118d0f",
   "metadata": {},
   "outputs": [
    {
     "name": "stdout",
     "output_type": "stream",
     "text": [
      "Error: Unable to decode JSON response.\n",
      "Bot: Sorry, I couldn't process your request.\n"
     ]
    }
   ],
   "source": [
    "import requests\n",
    "import json\n",
    "\n",
    "\n",
    "SAP_CAI_TOKEN = \"your_sap_cai_token\"\n",
    "SAP_CAI_API_URL = \"https://api.cai.tools.sap/build/v1/dialog\"\n",
    "\n",
    "\n",
    "def send_message_to_cai(user_message, conversation_id):\n",
    "    headers = {\n",
    "        \"Authorization\": f\"Bearer {SAP_CAI_TOKEN}\",\n",
    "        \"Content-Type\": \"application/json\"\n",
    "    }\n",
    "    \n",
    "    payload = {\n",
    "        \"message\": {\"content\": user_message, \"type\": \"text\"},\n",
    "        \"conversation_id\": conversation_id\n",
    "    }\n",
    "    \n",
    "    response = requests.post(SAP_CAI_API_URL, headers=headers, json=payload)\n",
    "    \n",
    "    \n",
    "    try:\n",
    "        return response.json()\n",
    "    except json.JSONDecodeError:\n",
    "        print(\"Error: Unable to decode JSON response.\")\n",
    "        return None\n",
    "\n",
    "# Example usage\n",
    "if __name__ == \"__main__\":\n",
    "    user_message = \"What is the status of my complaint?\"\n",
    "    conversation_id = \"unique-user-session-id\"\n",
    "    response = send_message_to_cai(user_message, conversation_id)\n",
    "    \n",
    "    \n",
    "    if response and response.get(\"results\") and response[\"results\"].get(\"messages\"):\n",
    "        bot_reply = response[\"results\"][\"messages\"][0][\"content\"]\n",
    "        print(f\"Bot: {bot_reply}\")\n",
    "    else:\n",
    "        print(\"Bot: Sorry, I couldn't process your request.\")\n"
   ]
  },
  {
   "cell_type": "code",
   "execution_count": null,
   "id": "e543deb8",
   "metadata": {},
   "outputs": [],
   "source": []
  }
 ],
 "metadata": {
  "kernelspec": {
   "display_name": "Python 3 (ipykernel)",
   "language": "python",
   "name": "python3"
  },
  "language_info": {
   "codemirror_mode": {
    "name": "ipython",
    "version": 3
   },
   "file_extension": ".py",
   "mimetype": "text/x-python",
   "name": "python",
   "nbconvert_exporter": "python",
   "pygments_lexer": "ipython3",
   "version": "3.9.7"
  }
 },
 "nbformat": 4,
 "nbformat_minor": 5
}
